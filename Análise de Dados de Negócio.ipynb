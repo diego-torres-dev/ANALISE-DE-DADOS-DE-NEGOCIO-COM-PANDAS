{
 "cells": [
  {
   "cell_type": "markdown",
   "id": "aa025475",
   "metadata": {},
   "source": [
    "# Análise de Dados de Negócios com Pandas"
   ]
  },
  {
   "cell_type": "markdown",
   "id": "bdaa8dcc",
   "metadata": {},
   "source": [
    "## Contextualização"
   ]
  },
  {
   "cell_type": "markdown",
   "id": "f881bfe4",
   "metadata": {},
   "source": [
    "Vamos analisar os dados de 2019 de uma empresa prestadora de serviços fictícia. São três bases de dados:\n",
    "\n",
    "- Cadastro de funcionários;\n",
    "- Cadastro de clientes;\n",
    "- Base de serviços prestados."
   ]
  },
  {
   "cell_type": "markdown",
   "id": "c7d852d8",
   "metadata": {},
   "source": [
    "## O que queremos saber"
   ]
  },
  {
   "cell_type": "markdown",
   "id": "00713db8",
   "metadata": {},
   "source": [
    "Nossa análise descobrirá:\n",
    "\n",
    "1) Custo total da folha salarial\n",
    "\n",
    "2) Faturamento total da empresa\n",
    "\n",
    "3) Percentual de funcionários que fecharam pelo menos um contrato\n",
    "\n",
    "4) Total de contratos que cada área da empresa fechou\n",
    "\n",
    "5) Número de funcionários em cada área da empresa\n",
    "\n",
    "6) Tíquete médio mensal dos contratos"
   ]
  },
  {
   "cell_type": "markdown",
   "id": "7d53b96c",
   "metadata": {},
   "source": [
    "## Análise"
   ]
  },
  {
   "cell_type": "markdown",
   "id": "e90752b2",
   "metadata": {},
   "source": [
    "### Importação das Bases"
   ]
  },
  {
   "cell_type": "code",
   "execution_count": null,
   "id": "b67e4247",
   "metadata": {},
   "outputs": [],
   "source": [
    "# Importa a biblioteca pandas com o apelido pd\n",
    "import pandas as pd\n",
    "\n",
    "# Importa a biblioteca locale\n",
    "import locale\n",
    "\n",
    "# Define o local para que os números sejam formatados corretamente\n",
    "locale.setlocale(locale.LC_ALL, \"pt_BR.UTF-8\")\n",
    "\n",
    "# Lê os arquivos especificados e os transforma em dataframes\n",
    "df_clientes = pd.read_csv(\"CadastroClientes.csv\", sep=\";\", decimal=\",\", encoding=\"utf-8\")\n",
    "df_funcionarios = pd.read_csv(\"CadastroFuncionarios.csv\", sep=\";\", decimal=\",\", encoding=\"utf-8\")\n",
    "df_servicos_prestados = pd.read_excel(\"BaseServiçosPrestados.xlsx\")"
   ]
  },
  {
   "cell_type": "markdown",
   "id": "400a1090",
   "metadata": {},
   "source": [
    "### Visualização dos Dataframes"
   ]
  },
  {
   "cell_type": "markdown",
   "id": "0fb1d7a2",
   "metadata": {},
   "source": [
    "Antes de começarmos a manipular essas bases de dados, vamos nos situar através da visualização das cinco primeiras linhas de cada dataframe."
   ]
  },
  {
   "cell_type": "markdown",
   "id": "aa58ef67",
   "metadata": {},
   "source": [
    "#### Cadastro de Clientes"
   ]
  },
  {
   "cell_type": "code",
   "execution_count": 2,
   "id": "fffd1d51",
   "metadata": {},
   "outputs": [
    {
     "data": {
      "text/html": [
       "<div>\n",
       "<style scoped>\n",
       "    .dataframe tbody tr th:only-of-type {\n",
       "        vertical-align: middle;\n",
       "    }\n",
       "\n",
       "    .dataframe tbody tr th {\n",
       "        vertical-align: top;\n",
       "    }\n",
       "\n",
       "    .dataframe thead th {\n",
       "        text-align: right;\n",
       "    }\n",
       "</style>\n",
       "<table border=\"1\" class=\"dataframe\">\n",
       "  <thead>\n",
       "    <tr style=\"text-align: right;\">\n",
       "      <th></th>\n",
       "      <th>ID Cliente</th>\n",
       "      <th>Cliente</th>\n",
       "      <th>Valor Contrato Mensal</th>\n",
       "    </tr>\n",
       "  </thead>\n",
       "  <tbody>\n",
       "    <tr>\n",
       "      <th>0</th>\n",
       "      <td>1</td>\n",
       "      <td>Teixeira Gonçalves</td>\n",
       "      <td>540</td>\n",
       "    </tr>\n",
       "    <tr>\n",
       "      <th>1</th>\n",
       "      <td>2</td>\n",
       "      <td>Souza Santos</td>\n",
       "      <td>1260</td>\n",
       "    </tr>\n",
       "    <tr>\n",
       "      <th>2</th>\n",
       "      <td>3</td>\n",
       "      <td>Emídio Alves</td>\n",
       "      <td>3195</td>\n",
       "    </tr>\n",
       "    <tr>\n",
       "      <th>3</th>\n",
       "      <td>4</td>\n",
       "      <td>Santos Costa</td>\n",
       "      <td>2520</td>\n",
       "    </tr>\n",
       "    <tr>\n",
       "      <th>4</th>\n",
       "      <td>5</td>\n",
       "      <td>Do Monteiro</td>\n",
       "      <td>3510</td>\n",
       "    </tr>\n",
       "  </tbody>\n",
       "</table>\n",
       "</div>"
      ],
      "text/plain": [
       "   ID Cliente             Cliente  Valor Contrato Mensal\n",
       "0           1  Teixeira Gonçalves                    540\n",
       "1           2        Souza Santos                   1260\n",
       "2           3        Emídio Alves                   3195\n",
       "3           4        Santos Costa                   2520\n",
       "4           5         Do Monteiro                   3510"
      ]
     },
     "execution_count": 2,
     "metadata": {},
     "output_type": "execute_result"
    }
   ],
   "source": [
    "df_clientes.head()"
   ]
  },
  {
   "cell_type": "markdown",
   "id": "b967cd20",
   "metadata": {},
   "source": [
    "#### Cadastro de Funcionários"
   ]
  },
  {
   "cell_type": "code",
   "execution_count": 3,
   "id": "d732bb81",
   "metadata": {},
   "outputs": [
    {
     "data": {
      "text/html": [
       "<div>\n",
       "<style scoped>\n",
       "    .dataframe tbody tr th:only-of-type {\n",
       "        vertical-align: middle;\n",
       "    }\n",
       "\n",
       "    .dataframe tbody tr th {\n",
       "        vertical-align: top;\n",
       "    }\n",
       "\n",
       "    .dataframe thead th {\n",
       "        text-align: right;\n",
       "    }\n",
       "</style>\n",
       "<table border=\"1\" class=\"dataframe\">\n",
       "  <thead>\n",
       "    <tr style=\"text-align: right;\">\n",
       "      <th></th>\n",
       "      <th>ID Funcionário</th>\n",
       "      <th>Estado Civil</th>\n",
       "      <th>Nome Completo</th>\n",
       "      <th>Salario Base</th>\n",
       "      <th>Impostos</th>\n",
       "      <th>Beneficios</th>\n",
       "      <th>VT</th>\n",
       "      <th>VR</th>\n",
       "      <th>Cargo</th>\n",
       "      <th>Area</th>\n",
       "    </tr>\n",
       "  </thead>\n",
       "  <tbody>\n",
       "    <tr>\n",
       "      <th>0</th>\n",
       "      <td>1</td>\n",
       "      <td>C</td>\n",
       "      <td>Gabriel Mesquita</td>\n",
       "      <td>21910</td>\n",
       "      <td>10955.0</td>\n",
       "      <td>4382.0</td>\n",
       "      <td>242</td>\n",
       "      <td>719.04</td>\n",
       "      <td>Diretor</td>\n",
       "      <td>Operações</td>\n",
       "    </tr>\n",
       "    <tr>\n",
       "      <th>1</th>\n",
       "      <td>2</td>\n",
       "      <td>C</td>\n",
       "      <td>João Haddad</td>\n",
       "      <td>5404</td>\n",
       "      <td>2702.0</td>\n",
       "      <td>1080.8</td>\n",
       "      <td>154</td>\n",
       "      <td>574.56</td>\n",
       "      <td>Estagiário</td>\n",
       "      <td>Logística</td>\n",
       "    </tr>\n",
       "    <tr>\n",
       "      <th>2</th>\n",
       "      <td>3</td>\n",
       "      <td>C</td>\n",
       "      <td>Amanda Marques Ribeiro</td>\n",
       "      <td>16066</td>\n",
       "      <td>8033.0</td>\n",
       "      <td>3213.2</td>\n",
       "      <td>154</td>\n",
       "      <td>729.12</td>\n",
       "      <td>Estagiário</td>\n",
       "      <td>Administrativo</td>\n",
       "    </tr>\n",
       "    <tr>\n",
       "      <th>3</th>\n",
       "      <td>4</td>\n",
       "      <td>C</td>\n",
       "      <td>Guilherme Nunez</td>\n",
       "      <td>21305</td>\n",
       "      <td>10652.5</td>\n",
       "      <td>4261.0</td>\n",
       "      <td>220</td>\n",
       "      <td>524.16</td>\n",
       "      <td>Analista</td>\n",
       "      <td>Administrativo</td>\n",
       "    </tr>\n",
       "    <tr>\n",
       "      <th>4</th>\n",
       "      <td>5</td>\n",
       "      <td>C</td>\n",
       "      <td>Adelino Gomes</td>\n",
       "      <td>5098</td>\n",
       "      <td>2549.0</td>\n",
       "      <td>1019.6</td>\n",
       "      <td>176</td>\n",
       "      <td>725.76</td>\n",
       "      <td>Analista</td>\n",
       "      <td>Administrativo</td>\n",
       "    </tr>\n",
       "  </tbody>\n",
       "</table>\n",
       "</div>"
      ],
      "text/plain": [
       "   ID Funcionário Estado Civil           Nome Completo  Salario Base  \\\n",
       "0               1            C        Gabriel Mesquita         21910   \n",
       "1               2            C             João Haddad          5404   \n",
       "2               3            C  Amanda Marques Ribeiro         16066   \n",
       "3               4            C         Guilherme Nunez         21305   \n",
       "4               5            C           Adelino Gomes          5098   \n",
       "\n",
       "   Impostos  Beneficios   VT      VR       Cargo            Area  \n",
       "0   10955.0      4382.0  242  719.04     Diretor       Operações  \n",
       "1    2702.0      1080.8  154  574.56  Estagiário       Logística  \n",
       "2    8033.0      3213.2  154  729.12  Estagiário  Administrativo  \n",
       "3   10652.5      4261.0  220  524.16    Analista  Administrativo  \n",
       "4    2549.0      1019.6  176  725.76    Analista  Administrativo  "
      ]
     },
     "execution_count": 3,
     "metadata": {},
     "output_type": "execute_result"
    }
   ],
   "source": [
    "df_funcionarios.head()"
   ]
  },
  {
   "cell_type": "markdown",
   "id": "17961895",
   "metadata": {},
   "source": [
    "As colunas __Estado Civil__ e __Cargo__ não têm qualquer relevância para a análise que vamos fazer. Portanto, vamos removê-las do dataframe."
   ]
  },
  {
   "cell_type": "code",
   "execution_count": 4,
   "id": "bf6f2142",
   "metadata": {},
   "outputs": [
    {
     "data": {
      "text/html": [
       "<div>\n",
       "<style scoped>\n",
       "    .dataframe tbody tr th:only-of-type {\n",
       "        vertical-align: middle;\n",
       "    }\n",
       "\n",
       "    .dataframe tbody tr th {\n",
       "        vertical-align: top;\n",
       "    }\n",
       "\n",
       "    .dataframe thead th {\n",
       "        text-align: right;\n",
       "    }\n",
       "</style>\n",
       "<table border=\"1\" class=\"dataframe\">\n",
       "  <thead>\n",
       "    <tr style=\"text-align: right;\">\n",
       "      <th></th>\n",
       "      <th>ID Funcionário</th>\n",
       "      <th>Nome Completo</th>\n",
       "      <th>Salario Base</th>\n",
       "      <th>Impostos</th>\n",
       "      <th>Beneficios</th>\n",
       "      <th>VT</th>\n",
       "      <th>VR</th>\n",
       "      <th>Area</th>\n",
       "    </tr>\n",
       "  </thead>\n",
       "  <tbody>\n",
       "    <tr>\n",
       "      <th>0</th>\n",
       "      <td>1</td>\n",
       "      <td>Gabriel Mesquita</td>\n",
       "      <td>21910</td>\n",
       "      <td>10955.0</td>\n",
       "      <td>4382.0</td>\n",
       "      <td>242</td>\n",
       "      <td>719.04</td>\n",
       "      <td>Operações</td>\n",
       "    </tr>\n",
       "    <tr>\n",
       "      <th>1</th>\n",
       "      <td>2</td>\n",
       "      <td>João Haddad</td>\n",
       "      <td>5404</td>\n",
       "      <td>2702.0</td>\n",
       "      <td>1080.8</td>\n",
       "      <td>154</td>\n",
       "      <td>574.56</td>\n",
       "      <td>Logística</td>\n",
       "    </tr>\n",
       "    <tr>\n",
       "      <th>2</th>\n",
       "      <td>3</td>\n",
       "      <td>Amanda Marques Ribeiro</td>\n",
       "      <td>16066</td>\n",
       "      <td>8033.0</td>\n",
       "      <td>3213.2</td>\n",
       "      <td>154</td>\n",
       "      <td>729.12</td>\n",
       "      <td>Administrativo</td>\n",
       "    </tr>\n",
       "    <tr>\n",
       "      <th>3</th>\n",
       "      <td>4</td>\n",
       "      <td>Guilherme Nunez</td>\n",
       "      <td>21305</td>\n",
       "      <td>10652.5</td>\n",
       "      <td>4261.0</td>\n",
       "      <td>220</td>\n",
       "      <td>524.16</td>\n",
       "      <td>Administrativo</td>\n",
       "    </tr>\n",
       "    <tr>\n",
       "      <th>4</th>\n",
       "      <td>5</td>\n",
       "      <td>Adelino Gomes</td>\n",
       "      <td>5098</td>\n",
       "      <td>2549.0</td>\n",
       "      <td>1019.6</td>\n",
       "      <td>176</td>\n",
       "      <td>725.76</td>\n",
       "      <td>Administrativo</td>\n",
       "    </tr>\n",
       "  </tbody>\n",
       "</table>\n",
       "</div>"
      ],
      "text/plain": [
       "   ID Funcionário           Nome Completo  Salario Base  Impostos  Beneficios  \\\n",
       "0               1        Gabriel Mesquita         21910   10955.0      4382.0   \n",
       "1               2             João Haddad          5404    2702.0      1080.8   \n",
       "2               3  Amanda Marques Ribeiro         16066    8033.0      3213.2   \n",
       "3               4         Guilherme Nunez         21305   10652.5      4261.0   \n",
       "4               5           Adelino Gomes          5098    2549.0      1019.6   \n",
       "\n",
       "    VT      VR            Area  \n",
       "0  242  719.04       Operações  \n",
       "1  154  574.56       Logística  \n",
       "2  154  729.12  Administrativo  \n",
       "3  220  524.16  Administrativo  \n",
       "4  176  725.76  Administrativo  "
      ]
     },
     "execution_count": 4,
     "metadata": {},
     "output_type": "execute_result"
    }
   ],
   "source": [
    "df_funcionarios.drop([\"Estado Civil\", \"Cargo\"], axis=1, inplace=True)\n",
    "df_funcionarios.head()"
   ]
  },
  {
   "cell_type": "markdown",
   "id": "d409c268",
   "metadata": {},
   "source": [
    "#### Base de Serviços Prestados"
   ]
  },
  {
   "cell_type": "code",
   "execution_count": 5,
   "id": "035b2df1",
   "metadata": {},
   "outputs": [
    {
     "data": {
      "text/html": [
       "<div>\n",
       "<style scoped>\n",
       "    .dataframe tbody tr th:only-of-type {\n",
       "        vertical-align: middle;\n",
       "    }\n",
       "\n",
       "    .dataframe tbody tr th {\n",
       "        vertical-align: top;\n",
       "    }\n",
       "\n",
       "    .dataframe thead th {\n",
       "        text-align: right;\n",
       "    }\n",
       "</style>\n",
       "<table border=\"1\" class=\"dataframe\">\n",
       "  <thead>\n",
       "    <tr style=\"text-align: right;\">\n",
       "      <th></th>\n",
       "      <th>Codigo do Servico</th>\n",
       "      <th>ID Funcionário</th>\n",
       "      <th>ID Cliente</th>\n",
       "      <th>Tempo Total de Contrato (Meses)</th>\n",
       "    </tr>\n",
       "  </thead>\n",
       "  <tbody>\n",
       "    <tr>\n",
       "      <th>0</th>\n",
       "      <td>OS0001</td>\n",
       "      <td>67</td>\n",
       "      <td>1</td>\n",
       "      <td>14</td>\n",
       "    </tr>\n",
       "    <tr>\n",
       "      <th>1</th>\n",
       "      <td>OS0002</td>\n",
       "      <td>17</td>\n",
       "      <td>2</td>\n",
       "      <td>12</td>\n",
       "    </tr>\n",
       "    <tr>\n",
       "      <th>2</th>\n",
       "      <td>OS0003</td>\n",
       "      <td>116</td>\n",
       "      <td>4</td>\n",
       "      <td>14</td>\n",
       "    </tr>\n",
       "    <tr>\n",
       "      <th>3</th>\n",
       "      <td>OS0004</td>\n",
       "      <td>37</td>\n",
       "      <td>5</td>\n",
       "      <td>8</td>\n",
       "    </tr>\n",
       "    <tr>\n",
       "      <th>4</th>\n",
       "      <td>OS0005</td>\n",
       "      <td>130</td>\n",
       "      <td>6</td>\n",
       "      <td>8</td>\n",
       "    </tr>\n",
       "  </tbody>\n",
       "</table>\n",
       "</div>"
      ],
      "text/plain": [
       "  Codigo do Servico  ID Funcionário  ID Cliente  \\\n",
       "0            OS0001              67           1   \n",
       "1            OS0002              17           2   \n",
       "2            OS0003             116           4   \n",
       "3            OS0004              37           5   \n",
       "4            OS0005             130           6   \n",
       "\n",
       "   Tempo Total de Contrato (Meses)  \n",
       "0                               14  \n",
       "1                               12  \n",
       "2                               14  \n",
       "3                                8  \n",
       "4                                8  "
      ]
     },
     "execution_count": 5,
     "metadata": {},
     "output_type": "execute_result"
    }
   ],
   "source": [
    "df_servicos_prestados.head()"
   ]
  },
  {
   "cell_type": "markdown",
   "id": "32bdd18a",
   "metadata": {},
   "source": [
    "### Respostas"
   ]
  },
  {
   "cell_type": "markdown",
   "id": "5989447c",
   "metadata": {},
   "source": [
    "#### Custo da Folha Salarial"
   ]
  },
  {
   "cell_type": "code",
   "execution_count": 6,
   "id": "6753f370",
   "metadata": {},
   "outputs": [
    {
     "data": {
      "text/html": [
       "<div>\n",
       "<style scoped>\n",
       "    .dataframe tbody tr th:only-of-type {\n",
       "        vertical-align: middle;\n",
       "    }\n",
       "\n",
       "    .dataframe tbody tr th {\n",
       "        vertical-align: top;\n",
       "    }\n",
       "\n",
       "    .dataframe thead th {\n",
       "        text-align: right;\n",
       "    }\n",
       "</style>\n",
       "<table border=\"1\" class=\"dataframe\">\n",
       "  <thead>\n",
       "    <tr style=\"text-align: right;\">\n",
       "      <th></th>\n",
       "      <th>ID Funcionário</th>\n",
       "      <th>Nome Completo</th>\n",
       "      <th>Salario Base</th>\n",
       "      <th>Impostos</th>\n",
       "      <th>Beneficios</th>\n",
       "      <th>VT</th>\n",
       "      <th>VR</th>\n",
       "      <th>Area</th>\n",
       "      <th>Custo Funcionario</th>\n",
       "    </tr>\n",
       "  </thead>\n",
       "  <tbody>\n",
       "    <tr>\n",
       "      <th>0</th>\n",
       "      <td>1</td>\n",
       "      <td>Gabriel Mesquita</td>\n",
       "      <td>21910</td>\n",
       "      <td>10955.0</td>\n",
       "      <td>4382.0</td>\n",
       "      <td>242</td>\n",
       "      <td>719.04</td>\n",
       "      <td>Operações</td>\n",
       "      <td>38208.04</td>\n",
       "    </tr>\n",
       "    <tr>\n",
       "      <th>1</th>\n",
       "      <td>2</td>\n",
       "      <td>João Haddad</td>\n",
       "      <td>5404</td>\n",
       "      <td>2702.0</td>\n",
       "      <td>1080.8</td>\n",
       "      <td>154</td>\n",
       "      <td>574.56</td>\n",
       "      <td>Logística</td>\n",
       "      <td>9915.36</td>\n",
       "    </tr>\n",
       "    <tr>\n",
       "      <th>2</th>\n",
       "      <td>3</td>\n",
       "      <td>Amanda Marques Ribeiro</td>\n",
       "      <td>16066</td>\n",
       "      <td>8033.0</td>\n",
       "      <td>3213.2</td>\n",
       "      <td>154</td>\n",
       "      <td>729.12</td>\n",
       "      <td>Administrativo</td>\n",
       "      <td>28195.32</td>\n",
       "    </tr>\n",
       "    <tr>\n",
       "      <th>3</th>\n",
       "      <td>4</td>\n",
       "      <td>Guilherme Nunez</td>\n",
       "      <td>21305</td>\n",
       "      <td>10652.5</td>\n",
       "      <td>4261.0</td>\n",
       "      <td>220</td>\n",
       "      <td>524.16</td>\n",
       "      <td>Administrativo</td>\n",
       "      <td>36962.66</td>\n",
       "    </tr>\n",
       "    <tr>\n",
       "      <th>4</th>\n",
       "      <td>5</td>\n",
       "      <td>Adelino Gomes</td>\n",
       "      <td>5098</td>\n",
       "      <td>2549.0</td>\n",
       "      <td>1019.6</td>\n",
       "      <td>176</td>\n",
       "      <td>725.76</td>\n",
       "      <td>Administrativo</td>\n",
       "      <td>9568.36</td>\n",
       "    </tr>\n",
       "  </tbody>\n",
       "</table>\n",
       "</div>"
      ],
      "text/plain": [
       "   ID Funcionário           Nome Completo  Salario Base  Impostos  Beneficios  \\\n",
       "0               1        Gabriel Mesquita         21910   10955.0      4382.0   \n",
       "1               2             João Haddad          5404    2702.0      1080.8   \n",
       "2               3  Amanda Marques Ribeiro         16066    8033.0      3213.2   \n",
       "3               4         Guilherme Nunez         21305   10652.5      4261.0   \n",
       "4               5           Adelino Gomes          5098    2549.0      1019.6   \n",
       "\n",
       "    VT      VR            Area  Custo Funcionario  \n",
       "0  242  719.04       Operações           38208.04  \n",
       "1  154  574.56       Logística            9915.36  \n",
       "2  154  729.12  Administrativo           28195.32  \n",
       "3  220  524.16  Administrativo           36962.66  \n",
       "4  176  725.76  Administrativo            9568.36  "
      ]
     },
     "execution_count": 6,
     "metadata": {},
     "output_type": "execute_result"
    }
   ],
   "source": [
    "# Cria uma nova coluna em que cada linha representa o custo total por funcionário\n",
    "df_funcionarios[\"Custo Funcionario\"] = df_funcionarios[\"Salario Base\"] + df_funcionarios[\"Impostos\"] + df_funcionarios[\"Beneficios\"] + df_funcionarios[\"VT\"] + df_funcionarios[\"VR\"]\n",
    "df_funcionarios.head()"
   ]
  },
  {
   "cell_type": "code",
   "execution_count": 7,
   "id": "b0913787",
   "metadata": {},
   "outputs": [
    {
     "name": "stdout",
     "output_type": "stream",
     "text": [
      "Custo da folha salarial: R$ 2.717.493,22\n"
     ]
    }
   ],
   "source": [
    "# Soma todos os valores da coluna \"Custo Funcionario\"\n",
    "custo_folha_salarial = locale.currency(df_funcionarios[\"Custo Funcionario\"].sum(), grouping=True)\n",
    "\n",
    "# Exibe o resultado\n",
    "print(f\"Custo da folha salarial: {custo_folha_salarial}\")"
   ]
  },
  {
   "cell_type": "markdown",
   "id": "c3694cfc",
   "metadata": {},
   "source": [
    "#### Faturamento da Empresa"
   ]
  },
  {
   "cell_type": "markdown",
   "id": "6f107b44",
   "metadata": {},
   "source": [
    "Para calcular o faturamento da empresa, precisamos mesclar dois dataframes: o __df_clientes__ e o __df_servicos_prestados__. Enquanto o primeiro é uma tabela característica, o segundo é uma tabela fato. Precisamos nos atentar a isso antes de mesclar os dataframes, pois a tabela característica é a que deve ser mesclada à tabela fato. A mesclagem que vamos executar é semelhante a um INNER JOIN do SQL."
   ]
  },
  {
   "cell_type": "code",
   "execution_count": 8,
   "id": "3ab1bb53",
   "metadata": {},
   "outputs": [
    {
     "data": {
      "text/html": [
       "<div>\n",
       "<style scoped>\n",
       "    .dataframe tbody tr th:only-of-type {\n",
       "        vertical-align: middle;\n",
       "    }\n",
       "\n",
       "    .dataframe tbody tr th {\n",
       "        vertical-align: top;\n",
       "    }\n",
       "\n",
       "    .dataframe thead th {\n",
       "        text-align: right;\n",
       "    }\n",
       "</style>\n",
       "<table border=\"1\" class=\"dataframe\">\n",
       "  <thead>\n",
       "    <tr style=\"text-align: right;\">\n",
       "      <th></th>\n",
       "      <th>ID Cliente</th>\n",
       "      <th>Tempo Total de Contrato (Meses)</th>\n",
       "      <th>Valor Contrato Mensal</th>\n",
       "    </tr>\n",
       "  </thead>\n",
       "  <tbody>\n",
       "    <tr>\n",
       "      <th>0</th>\n",
       "      <td>1</td>\n",
       "      <td>14</td>\n",
       "      <td>540</td>\n",
       "    </tr>\n",
       "    <tr>\n",
       "      <th>1</th>\n",
       "      <td>2</td>\n",
       "      <td>12</td>\n",
       "      <td>1260</td>\n",
       "    </tr>\n",
       "    <tr>\n",
       "      <th>2</th>\n",
       "      <td>4</td>\n",
       "      <td>14</td>\n",
       "      <td>2520</td>\n",
       "    </tr>\n",
       "    <tr>\n",
       "      <th>3</th>\n",
       "      <td>5</td>\n",
       "      <td>8</td>\n",
       "      <td>3510</td>\n",
       "    </tr>\n",
       "    <tr>\n",
       "      <th>4</th>\n",
       "      <td>6</td>\n",
       "      <td>8</td>\n",
       "      <td>2340</td>\n",
       "    </tr>\n",
       "  </tbody>\n",
       "</table>\n",
       "</div>"
      ],
      "text/plain": [
       "   ID Cliente  Tempo Total de Contrato (Meses)  Valor Contrato Mensal\n",
       "0           1                               14                    540\n",
       "1           2                               12                   1260\n",
       "2           4                               14                   2520\n",
       "3           5                                8                   3510\n",
       "4           6                                8                   2340"
      ]
     },
     "execution_count": 8,
     "metadata": {},
     "output_type": "execute_result"
    }
   ],
   "source": [
    "# Cria um novo dataframe, usando colunas dos dois dataframes\n",
    "df_faturamento = df_servicos_prestados[[\"ID Cliente\", \"Tempo Total de Contrato (Meses)\"]].merge(df_clientes[[\"ID Cliente\", \"Valor Contrato Mensal\"]], on=\"ID Cliente\")\n",
    "df_faturamento.head()"
   ]
  },
  {
   "cell_type": "code",
   "execution_count": 9,
   "id": "a6ee83c4",
   "metadata": {},
   "outputs": [
    {
     "data": {
      "text/html": [
       "<div>\n",
       "<style scoped>\n",
       "    .dataframe tbody tr th:only-of-type {\n",
       "        vertical-align: middle;\n",
       "    }\n",
       "\n",
       "    .dataframe tbody tr th {\n",
       "        vertical-align: top;\n",
       "    }\n",
       "\n",
       "    .dataframe thead th {\n",
       "        text-align: right;\n",
       "    }\n",
       "</style>\n",
       "<table border=\"1\" class=\"dataframe\">\n",
       "  <thead>\n",
       "    <tr style=\"text-align: right;\">\n",
       "      <th></th>\n",
       "      <th>ID Cliente</th>\n",
       "      <th>Tempo Total de Contrato (Meses)</th>\n",
       "      <th>Valor Contrato Mensal</th>\n",
       "      <th>Faturamento Contrato</th>\n",
       "    </tr>\n",
       "  </thead>\n",
       "  <tbody>\n",
       "    <tr>\n",
       "      <th>0</th>\n",
       "      <td>1</td>\n",
       "      <td>14</td>\n",
       "      <td>540</td>\n",
       "      <td>7560</td>\n",
       "    </tr>\n",
       "    <tr>\n",
       "      <th>1</th>\n",
       "      <td>2</td>\n",
       "      <td>12</td>\n",
       "      <td>1260</td>\n",
       "      <td>15120</td>\n",
       "    </tr>\n",
       "    <tr>\n",
       "      <th>2</th>\n",
       "      <td>4</td>\n",
       "      <td>14</td>\n",
       "      <td>2520</td>\n",
       "      <td>35280</td>\n",
       "    </tr>\n",
       "    <tr>\n",
       "      <th>3</th>\n",
       "      <td>5</td>\n",
       "      <td>8</td>\n",
       "      <td>3510</td>\n",
       "      <td>28080</td>\n",
       "    </tr>\n",
       "    <tr>\n",
       "      <th>4</th>\n",
       "      <td>6</td>\n",
       "      <td>8</td>\n",
       "      <td>2340</td>\n",
       "      <td>18720</td>\n",
       "    </tr>\n",
       "  </tbody>\n",
       "</table>\n",
       "</div>"
      ],
      "text/plain": [
       "   ID Cliente  Tempo Total de Contrato (Meses)  Valor Contrato Mensal  \\\n",
       "0           1                               14                    540   \n",
       "1           2                               12                   1260   \n",
       "2           4                               14                   2520   \n",
       "3           5                                8                   3510   \n",
       "4           6                                8                   2340   \n",
       "\n",
       "   Faturamento Contrato  \n",
       "0                  7560  \n",
       "1                 15120  \n",
       "2                 35280  \n",
       "3                 28080  \n",
       "4                 18720  "
      ]
     },
     "execution_count": 9,
     "metadata": {},
     "output_type": "execute_result"
    }
   ],
   "source": [
    "# Cria uma nova coluna no dataframe com o faturamento de cada contrato\n",
    "df_faturamento[\"Faturamento Contrato\"] = df_faturamento[\"Tempo Total de Contrato (Meses)\"] * df_faturamento[\"Valor Contrato Mensal\"]\n",
    "df_faturamento.head()"
   ]
  },
  {
   "cell_type": "code",
   "execution_count": 10,
   "id": "b2aa65b4",
   "metadata": {},
   "outputs": [
    {
     "name": "stdout",
     "output_type": "stream",
     "text": [
      "Faturamento da empresa: R$ 5.519.160,00\n"
     ]
    }
   ],
   "source": [
    "# Soma todos os valores da coluna \"Faturamento Contrato\"\n",
    "faturamento_total = locale.currency(df_faturamento[\"Faturamento Contrato\"].sum(), grouping=True)\n",
    "\n",
    "# Exibição do resultados\n",
    "print(f\"Faturamento da empresa: {faturamento_total}\")"
   ]
  },
  {
   "cell_type": "markdown",
   "id": "2c2f99ef",
   "metadata": {},
   "source": [
    "#### Percentual de Funcionários que Fecharam Contrato(s)"
   ]
  },
  {
   "cell_type": "code",
   "execution_count": 21,
   "id": "92873648",
   "metadata": {},
   "outputs": [
    {
     "name": "stdout",
     "output_type": "stream",
     "text": [
      "Percentual de funcionários que fecharam contratos: 86,84%\n"
     ]
    }
   ],
   "source": [
    "# Quantidade de funcionários cadastrados\n",
    "qtde_funcionarios = df_funcionarios[\"ID Funcionário\"].count()\n",
    "\n",
    "# Quantidade de funcionários que fecharam ao menos um contrato\n",
    "fecharam_contrato = len(df_servicos_prestados[\"ID Funcionário\"].unique())\n",
    "\n",
    "# Percentual de funcionário que fecharam ao menos um contrato\n",
    "percentual_fecharam_contrato = fecharam_contrato / qtde_funcionarios\n",
    "\n",
    "# Formatação do valor\n",
    "percentual_fecharam_contrato = \"{:.2%}\".format(percentual_fecharam_contrato).replace(\".\", \",\")\n",
    "\n",
    "# Exibição de resultado\n",
    "print(f\"Percentual de funcionários que fecharam contratos: {percentual_fecharam_contrato}\")"
   ]
  },
  {
   "cell_type": "markdown",
   "id": "196f2125",
   "metadata": {},
   "source": [
    "#### Número de Contratos por Área"
   ]
  },
  {
   "cell_type": "code",
   "execution_count": 22,
   "id": "e070bf21",
   "metadata": {},
   "outputs": [
    {
     "data": {
      "text/html": [
       "<div>\n",
       "<style scoped>\n",
       "    .dataframe tbody tr th:only-of-type {\n",
       "        vertical-align: middle;\n",
       "    }\n",
       "\n",
       "    .dataframe tbody tr th {\n",
       "        vertical-align: top;\n",
       "    }\n",
       "\n",
       "    .dataframe thead th {\n",
       "        text-align: right;\n",
       "    }\n",
       "</style>\n",
       "<table border=\"1\" class=\"dataframe\">\n",
       "  <thead>\n",
       "    <tr style=\"text-align: right;\">\n",
       "      <th></th>\n",
       "      <th>ID Funcionário</th>\n",
       "      <th>Area</th>\n",
       "    </tr>\n",
       "  </thead>\n",
       "  <tbody>\n",
       "    <tr>\n",
       "      <th>0</th>\n",
       "      <td>67</td>\n",
       "      <td>Financeiro</td>\n",
       "    </tr>\n",
       "    <tr>\n",
       "      <th>1</th>\n",
       "      <td>67</td>\n",
       "      <td>Financeiro</td>\n",
       "    </tr>\n",
       "    <tr>\n",
       "      <th>2</th>\n",
       "      <td>67</td>\n",
       "      <td>Financeiro</td>\n",
       "    </tr>\n",
       "    <tr>\n",
       "      <th>3</th>\n",
       "      <td>67</td>\n",
       "      <td>Financeiro</td>\n",
       "    </tr>\n",
       "    <tr>\n",
       "      <th>4</th>\n",
       "      <td>17</td>\n",
       "      <td>Logística</td>\n",
       "    </tr>\n",
       "  </tbody>\n",
       "</table>\n",
       "</div>"
      ],
      "text/plain": [
       "   ID Funcionário        Area\n",
       "0              67  Financeiro\n",
       "1              67  Financeiro\n",
       "2              67  Financeiro\n",
       "3              67  Financeiro\n",
       "4              17   Logística"
      ]
     },
     "execution_count": 22,
     "metadata": {},
     "output_type": "execute_result"
    }
   ],
   "source": [
    "# Cria um novo dataframe\n",
    "df_areas = df_servicos_prestados[[\"ID Funcionário\"]].merge(df_funcionarios[[\"ID Funcionário\", \"Area\"]], on=\"ID Funcionário\")\n",
    "df_areas.head()"
   ]
  },
  {
   "cell_type": "code",
   "execution_count": 23,
   "id": "2d8363d6",
   "metadata": {},
   "outputs": [
    {
     "data": {
      "text/plain": [
       "Administrativo    63\n",
       "Operações         48\n",
       "Comercial         44\n",
       "Financeiro        42\n",
       "Logística         40\n",
       "Name: Area, dtype: int64"
      ]
     },
     "execution_count": 23,
     "metadata": {},
     "output_type": "execute_result"
    }
   ],
   "source": [
    "# Conta o número de contratos por cada área\n",
    "df_areas[\"Area\"].value_counts()"
   ]
  },
  {
   "cell_type": "markdown",
   "id": "47d14c58",
   "metadata": {},
   "source": [
    "#### Número de Funcionários por Área"
   ]
  },
  {
   "cell_type": "code",
   "execution_count": 24,
   "id": "3f9382c3",
   "metadata": {},
   "outputs": [
    {
     "data": {
      "text/plain": [
       "Administrativo    26\n",
       "Comercial         26\n",
       "Operações         23\n",
       "Logística         21\n",
       "Financeiro        18\n",
       "Name: Area, dtype: int64"
      ]
     },
     "execution_count": 24,
     "metadata": {},
     "output_type": "execute_result"
    }
   ],
   "source": [
    "# Conta o número de funcionários por área\n",
    "df_funcionarios[\"Area\"].value_counts()"
   ]
  },
  {
   "cell_type": "markdown",
   "id": "ec94afeb",
   "metadata": {},
   "source": [
    "#### Faturamento Médio Mensal"
   ]
  },
  {
   "cell_type": "code",
   "execution_count": 25,
   "id": "0ed3b240",
   "metadata": {},
   "outputs": [
    {
     "name": "stdout",
     "output_type": "stream",
     "text": [
      "Faturamento médio mensal com contratos: R$ 2.502,56\n"
     ]
    }
   ],
   "source": [
    "# Calcula a média dos valores da coluna \"Valor Contrato Mensal\"\n",
    "faturamento_medio_mensal = locale.currency(df_clientes[\"Valor Contrato Mensal\"].mean(), grouping=True)\n",
    "\n",
    "# Exibição do resultado\n",
    "print(f\"Faturamento médio mensal com contratos: {faturamento_medio_mensal}\")"
   ]
  }
 ],
 "metadata": {
  "kernelspec": {
   "display_name": "Python 3.10.6 64-bit",
   "language": "python",
   "name": "python3"
  },
  "language_info": {
   "codemirror_mode": {
    "name": "ipython",
    "version": 3
   },
   "file_extension": ".py",
   "mimetype": "text/x-python",
   "name": "python",
   "nbconvert_exporter": "python",
   "pygments_lexer": "ipython3",
   "version": "3.10.6"
  },
  "vscode": {
   "interpreter": {
    "hash": "6064f68c04f179b6a5177d0005666a4062ba66d2d0c43da146ca4c8f949bbb8f"
   }
  }
 },
 "nbformat": 4,
 "nbformat_minor": 5
}
